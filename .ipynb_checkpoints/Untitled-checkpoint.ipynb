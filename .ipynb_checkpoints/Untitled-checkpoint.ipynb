{
 "cells": [
  {
   "cell_type": "code",
   "execution_count": null,
   "metadata": {},
   "outputs": [],
   "source": [
    ":dep serde = { version = \"1.0\", features = [\"derive\"] }\n",
    ":dep serde_json = \"1.0.44\""
   ]
  },
  {
   "cell_type": "code",
   "execution_count": 19,
   "metadata": {},
   "outputs": [
    {
     "ename": "Error",
     "evalue": "the name `BTreeSet` is defined multiple times",
     "output_type": "error",
     "traceback": [
      "use std::collections::BTreeSet;",
      "    ^^^^^^^^^^^^^^^^^^^^^^^^^^ `BTreeSet` reimported here",
      "use std::collections::BTreeSet;",
      "    ^^^^^^^^^^^^^^^^^^^^^^^^^^ previous import of the type `BTreeSet` here",
      "the name `BTreeSet` is defined multiple times"
     ]
    },
    {
     "ename": "Error",
     "evalue": "unresolved import `serde_json`",
     "output_type": "error",
     "traceback": [
      "use serde_json;",
      "    ^^^^^^^^^^ no `serde_json` external crate",
      "unresolved import `serde_json`"
     ]
    }
   ],
   "source": [
    "use std::collections::HashMap;\n",
    "use std::collections::BTreeSet;\n",
    "use serde_json;"
   ]
  },
  {
   "cell_type": "code",
   "execution_count": 11,
   "metadata": {},
   "outputs": [],
   "source": [
    "let mut test = HashMap::<BTreeSet<&str>,String>::new();"
   ]
  },
  {
   "cell_type": "code",
   "execution_count": 16,
   "metadata": {},
   "outputs": [],
   "source": [
    "let a = \"a\";\n",
    "let b = \"b\";\n",
    "test.insert(vec![a,b].into_iter().collect(),String::from(\"1\"));\n",
    "test.insert(vec![b,a].into_iter().collect(),String::from(\"2\"));"
   ]
  },
  {
   "cell_type": "code",
   "execution_count": 17,
   "metadata": {},
   "outputs": [
    {
     "data": {
      "text/plain": [
       "{{\"a\", \"b\"}: \"2\"}"
      ]
     },
     "execution_count": 17,
     "metadata": {},
     "output_type": "execute_result"
    }
   ],
   "source": [
    "test"
   ]
  },
  {
   "cell_type": "code",
   "execution_count": null,
   "metadata": {},
   "outputs": [],
   "source": []
  }
 ],
 "metadata": {
  "kernelspec": {
   "display_name": "Rust",
   "language": "rust",
   "name": "rust"
  },
  "language_info": {
   "codemirror_mode": "rust",
   "file_extension": ".rs",
   "mimetype": "text/rust",
   "name": "Rust",
   "pygment_lexer": "rust",
   "version": ""
  }
 },
 "nbformat": 4,
 "nbformat_minor": 2
}
